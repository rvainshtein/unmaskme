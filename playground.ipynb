{
 "cells": [
  {
   "cell_type": "code",
   "execution_count": 2,
   "outputs": [
    {
     "name": "stdout",
     "output_type": "stream",
     "text": [
      "The autoreload extension is already loaded. To reload it, use:\n",
      "  %reload_ext autoreload\n"
     ]
    }
   ],
   "source": [
    "%load_ext autoreload\n",
    "%autoreload 2\n",
    "\n",
    "from masktheface.mask_the_face import prepare_args\n",
    "from masktheface.utils.aux_functions import mask_image"
   ],
   "metadata": {
    "collapsed": false,
    "pycharm": {
     "name": "#%%\n"
    }
   }
  },
  {
   "cell_type": "code",
   "execution_count": 3,
   "metadata": {
    "collapsed": true,
    "pycharm": {
     "name": "#%%\n"
    }
   },
   "outputs": [
    {
     "name": "stdout",
     "output_type": "stream",
     "text": [
      "Faces found:  1\n"
     ]
    },
    {
     "ename": "NoSectionError",
     "evalue": "No section: 'surgical'",
     "output_type": "error",
     "traceback": [
      "\u001B[1;31m---------------------------------------------------------------------------\u001B[0m",
      "\u001B[1;31mKeyError\u001B[0m                                  Traceback (most recent call last)",
      "\u001B[1;32mC:\\Users\\rvain\\anaconda3\\envs\\unmaskme\\lib\\configparser.py\u001B[0m in \u001B[0;36mitems\u001B[1;34m(self, section, raw, vars)\u001B[0m\n\u001B[0;32m    845\u001B[0m         \u001B[1;32mtry\u001B[0m\u001B[1;33m:\u001B[0m\u001B[1;33m\u001B[0m\u001B[1;33m\u001B[0m\u001B[0m\n\u001B[1;32m--> 846\u001B[1;33m             \u001B[0md\u001B[0m\u001B[1;33m.\u001B[0m\u001B[0mupdate\u001B[0m\u001B[1;33m(\u001B[0m\u001B[0mself\u001B[0m\u001B[1;33m.\u001B[0m\u001B[0m_sections\u001B[0m\u001B[1;33m[\u001B[0m\u001B[0msection\u001B[0m\u001B[1;33m]\u001B[0m\u001B[1;33m)\u001B[0m\u001B[1;33m\u001B[0m\u001B[1;33m\u001B[0m\u001B[0m\n\u001B[0m\u001B[0;32m    847\u001B[0m         \u001B[1;32mexcept\u001B[0m \u001B[0mKeyError\u001B[0m\u001B[1;33m:\u001B[0m\u001B[1;33m\u001B[0m\u001B[1;33m\u001B[0m\u001B[0m\n",
      "\u001B[1;31mKeyError\u001B[0m: 'surgical'",
      "\nDuring handling of the above exception, another exception occurred:\n",
      "\u001B[1;31mNoSectionError\u001B[0m                            Traceback (most recent call last)",
      "\u001B[1;32m<ipython-input-3-6ac7fd6a9bae>\u001B[0m in \u001B[0;36m<module>\u001B[1;34m()\u001B[0m\n\u001B[0;32m      2\u001B[0m \u001B[0mimage_path\u001B[0m \u001B[1;33m=\u001B[0m \u001B[1;34m'example_face.png'\u001B[0m\u001B[1;33m\u001B[0m\u001B[1;33m\u001B[0m\u001B[0m\n\u001B[0;32m      3\u001B[0m \u001B[0margs\u001B[0m \u001B[1;33m=\u001B[0m \u001B[0mprepare_args\u001B[0m\u001B[1;33m(\u001B[0m\u001B[1;34mf'{image_path}'\u001B[0m\u001B[1;33m)\u001B[0m\u001B[1;33m\u001B[0m\u001B[1;33m\u001B[0m\u001B[0m\n\u001B[1;32m----> 4\u001B[1;33m \u001B[0mmasked_images\u001B[0m\u001B[1;33m,\u001B[0m \u001B[0mmask\u001B[0m\u001B[1;33m,\u001B[0m \u001B[0mmask_binary_array\u001B[0m\u001B[1;33m,\u001B[0m \u001B[0moriginal_image\u001B[0m \u001B[1;33m=\u001B[0m     \u001B[0mmask_image\u001B[0m\u001B[1;33m(\u001B[0m\u001B[0mimage_path\u001B[0m\u001B[1;33m,\u001B[0m \u001B[0margs\u001B[0m\u001B[1;33m)\u001B[0m\u001B[1;33m\u001B[0m\u001B[1;33m\u001B[0m\u001B[0m\n\u001B[0m\u001B[0;32m      5\u001B[0m \u001B[1;33m\u001B[0m\u001B[0m\n",
      "\u001B[1;32mC:\\dev\\Technion\\deep_learning_ee_046211\\unmaskme\\masktheface\\utils\\aux_functions.py\u001B[0m in \u001B[0;36mmask_image\u001B[1;34m(image_path, args)\u001B[0m\n\u001B[0;32m    609\u001B[0m                 \u001B[0mimage\u001B[0m \u001B[1;33m=\u001B[0m \u001B[0mmasked_images\u001B[0m\u001B[1;33m.\u001B[0m\u001B[0mpop\u001B[0m\u001B[1;33m(\u001B[0m\u001B[1;36m0\u001B[0m\u001B[1;33m)\u001B[0m\u001B[1;33m\u001B[0m\u001B[1;33m\u001B[0m\u001B[0m\n\u001B[0;32m    610\u001B[0m             image, mask_binary = mask_face(\n\u001B[1;32m--> 611\u001B[1;33m                 \u001B[0mimage\u001B[0m\u001B[1;33m,\u001B[0m \u001B[0mface_location\u001B[0m\u001B[1;33m,\u001B[0m \u001B[0msix_points_on_face\u001B[0m\u001B[1;33m,\u001B[0m \u001B[0mangle\u001B[0m\u001B[1;33m,\u001B[0m \u001B[0margs\u001B[0m\u001B[1;33m,\u001B[0m \u001B[0mtype\u001B[0m\u001B[1;33m=\u001B[0m\u001B[0mmask_type\u001B[0m\u001B[1;33m\u001B[0m\u001B[1;33m\u001B[0m\u001B[0m\n\u001B[0m\u001B[0;32m    612\u001B[0m             )\n\u001B[0;32m    613\u001B[0m \u001B[1;33m\u001B[0m\u001B[0m\n",
      "\u001B[1;32mC:\\dev\\Technion\\deep_learning_ee_046211\\unmaskme\\masktheface\\utils\\aux_functions.py\u001B[0m in \u001B[0;36mmask_face\u001B[1;34m(image, face_location, six_points, angle, args, type)\u001B[0m\n\u001B[0;32m    306\u001B[0m     \u001B[0mmasks_cfg\u001B[0m \u001B[1;33m=\u001B[0m \u001B[1;34m\"../masks/masks.cfg\"\u001B[0m\u001B[1;33m\u001B[0m\u001B[1;33m\u001B[0m\u001B[0m\n\u001B[0;32m    307\u001B[0m     \u001B[1;32mif\u001B[0m \u001B[1;32mnot\u001B[0m \u001B[1;34m\"empty\"\u001B[0m \u001B[1;32min\u001B[0m \u001B[0mtype\u001B[0m \u001B[1;32mand\u001B[0m \u001B[1;32mnot\u001B[0m \u001B[1;34m\"inpaint\"\u001B[0m \u001B[1;32min\u001B[0m \u001B[0mtype\u001B[0m\u001B[1;33m:\u001B[0m\u001B[1;33m\u001B[0m\u001B[1;33m\u001B[0m\u001B[0m\n\u001B[1;32m--> 308\u001B[1;33m         \u001B[0mcfg\u001B[0m \u001B[1;33m=\u001B[0m \u001B[0mread_cfg\u001B[0m\u001B[1;33m(\u001B[0m\u001B[0mconfig_filename\u001B[0m\u001B[1;33m=\u001B[0m\u001B[0mmasks_cfg\u001B[0m\u001B[1;33m,\u001B[0m \u001B[0mmask_type\u001B[0m\u001B[1;33m=\u001B[0m\u001B[0mtype\u001B[0m\u001B[1;33m,\u001B[0m \u001B[0mverbose\u001B[0m\u001B[1;33m=\u001B[0m\u001B[1;32mFalse\u001B[0m\u001B[1;33m)\u001B[0m\u001B[1;33m\u001B[0m\u001B[1;33m\u001B[0m\u001B[0m\n\u001B[0m\u001B[0;32m    309\u001B[0m     \u001B[1;32melse\u001B[0m\u001B[1;33m:\u001B[0m\u001B[1;33m\u001B[0m\u001B[1;33m\u001B[0m\u001B[0m\n\u001B[0;32m    310\u001B[0m         \u001B[1;32mif\u001B[0m \u001B[1;34m\"left\"\u001B[0m \u001B[1;32min\u001B[0m \u001B[0mtype\u001B[0m\u001B[1;33m:\u001B[0m\u001B[1;33m\u001B[0m\u001B[1;33m\u001B[0m\u001B[0m\n",
      "\u001B[1;32mC:\\dev\\Technion\\deep_learning_ee_046211\\unmaskme\\masktheface\\utils\\read_cfg.py\u001B[0m in \u001B[0;36mread_cfg\u001B[1;34m(config_filename, mask_type, verbose)\u001B[0m\n\u001B[0;32m     38\u001B[0m     \u001B[1;32mif\u001B[0m \u001B[0mverbose\u001B[0m\u001B[1;33m:\u001B[0m\u001B[1;33m\u001B[0m\u001B[1;33m\u001B[0m\u001B[0m\n\u001B[0;32m     39\u001B[0m         \u001B[0mprint\u001B[0m\u001B[1;33m(\u001B[0m\u001B[1;34m\"[\"\u001B[0m \u001B[1;33m+\u001B[0m \u001B[0msection_name\u001B[0m \u001B[1;33m+\u001B[0m \u001B[1;34m\"]\"\u001B[0m\u001B[1;33m)\u001B[0m\u001B[1;33m\u001B[0m\u001B[1;33m\u001B[0m\u001B[0m\n\u001B[1;32m---> 40\u001B[1;33m     \u001B[1;32mfor\u001B[0m \u001B[0mname\u001B[0m\u001B[1;33m,\u001B[0m \u001B[0mvalue\u001B[0m \u001B[1;32min\u001B[0m \u001B[0mparser\u001B[0m\u001B[1;33m.\u001B[0m\u001B[0mitems\u001B[0m\u001B[1;33m(\u001B[0m\u001B[0msection_name\u001B[0m\u001B[1;33m)\u001B[0m\u001B[1;33m:\u001B[0m\u001B[1;33m\u001B[0m\u001B[1;33m\u001B[0m\u001B[0m\n\u001B[0m\u001B[0;32m     41\u001B[0m         \u001B[0mvalue\u001B[0m \u001B[1;33m=\u001B[0m \u001B[0mConvertIfStringIsInt\u001B[0m\u001B[1;33m(\u001B[0m\u001B[0mvalue\u001B[0m\u001B[1;33m)\u001B[0m\u001B[1;33m\u001B[0m\u001B[1;33m\u001B[0m\u001B[0m\n\u001B[0;32m     42\u001B[0m         \u001B[1;32mif\u001B[0m \u001B[0mname\u001B[0m \u001B[1;33m!=\u001B[0m \u001B[1;34m\"template\"\u001B[0m\u001B[1;33m:\u001B[0m\u001B[1;33m\u001B[0m\u001B[1;33m\u001B[0m\u001B[0m\n",
      "\u001B[1;32mC:\\Users\\rvain\\anaconda3\\envs\\unmaskme\\lib\\configparser.py\u001B[0m in \u001B[0;36mitems\u001B[1;34m(self, section, raw, vars)\u001B[0m\n\u001B[0;32m    847\u001B[0m         \u001B[1;32mexcept\u001B[0m \u001B[0mKeyError\u001B[0m\u001B[1;33m:\u001B[0m\u001B[1;33m\u001B[0m\u001B[1;33m\u001B[0m\u001B[0m\n\u001B[0;32m    848\u001B[0m             \u001B[1;32mif\u001B[0m \u001B[0msection\u001B[0m \u001B[1;33m!=\u001B[0m \u001B[0mself\u001B[0m\u001B[1;33m.\u001B[0m\u001B[0mdefault_section\u001B[0m\u001B[1;33m:\u001B[0m\u001B[1;33m\u001B[0m\u001B[1;33m\u001B[0m\u001B[0m\n\u001B[1;32m--> 849\u001B[1;33m                 \u001B[1;32mraise\u001B[0m \u001B[0mNoSectionError\u001B[0m\u001B[1;33m(\u001B[0m\u001B[0msection\u001B[0m\u001B[1;33m)\u001B[0m\u001B[1;33m\u001B[0m\u001B[1;33m\u001B[0m\u001B[0m\n\u001B[0m\u001B[0;32m    850\u001B[0m         \u001B[1;31m# Update with the entry specific variables\u001B[0m\u001B[1;33m\u001B[0m\u001B[1;33m\u001B[0m\u001B[1;33m\u001B[0m\u001B[0m\n\u001B[0;32m    851\u001B[0m         \u001B[1;32mif\u001B[0m \u001B[0mvars\u001B[0m\u001B[1;33m:\u001B[0m\u001B[1;33m\u001B[0m\u001B[1;33m\u001B[0m\u001B[0m\n",
      "\u001B[1;31mNoSectionError\u001B[0m: No section: 'surgical'"
     ]
    }
   ],
   "source": [
    "image_path = 'example_face.png'\n",
    "args = prepare_args(f'{image_path}')\n",
    "masked_images, mask, mask_binary_array, original_image = \\\n",
    "    mask_image(image_path, args)"
   ]
  },
  {
   "cell_type": "code",
   "execution_count": null,
   "outputs": [],
   "source": [],
   "metadata": {
    "collapsed": false,
    "pycharm": {
     "name": "#%%\n"
    }
   }
  }
 ],
 "metadata": {
  "kernelspec": {
   "name": "pycharm-3c433d68",
   "language": "python",
   "display_name": "PyCharm (unmaskme)"
  },
  "language_info": {
   "codemirror_mode": {
    "name": "ipython",
    "version": 2
   },
   "file_extension": ".py",
   "mimetype": "text/x-python",
   "name": "python",
   "nbconvert_exporter": "python",
   "pygments_lexer": "ipython2",
   "version": "2.7.6"
  }
 },
 "nbformat": 4,
 "nbformat_minor": 0
}